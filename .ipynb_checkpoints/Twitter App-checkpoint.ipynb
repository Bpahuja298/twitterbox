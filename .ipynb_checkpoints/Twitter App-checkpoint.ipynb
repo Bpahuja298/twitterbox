{
 "cells": [
  {
   "cell_type": "code",
   "execution_count": 1,
   "metadata": {
    "collapsed": true
   },
   "outputs": [],
   "source": [
    "import tweepy as tp"
   ]
  },
  {
   "cell_type": "code",
   "execution_count": 2,
   "metadata": {
    "collapsed": true
   },
   "outputs": [],
   "source": [
    "import numpy as np\n",
    "import matplotlib.pyplot as plt"
   ]
  },
  {
   "cell_type": "code",
   "execution_count": 3,
   "metadata": {
    "collapsed": true
   },
   "outputs": [],
   "source": [
    "import pandas as pd"
   ]
  },
  {
   "cell_type": "code",
   "execution_count": 4,
   "metadata": {
    "collapsed": true
   },
   "outputs": [],
   "source": [
    "import csv"
   ]
  },
  {
   "cell_type": "code",
   "execution_count": 5,
   "metadata": {
    "collapsed": true
   },
   "outputs": [],
   "source": [
    "import importlib "
   ]
  },
  {
   "cell_type": "code",
   "execution_count": 6,
   "metadata": {},
   "outputs": [],
   "source": [
    "import db_c as db"
   ]
  },
  {
   "cell_type": "code",
   "execution_count": 7,
   "metadata": {},
   "outputs": [],
   "source": [
    "# importlib.reload(db_c)"
   ]
  },
  {
   "cell_type": "code",
   "execution_count": 8,
   "metadata": {
    "collapsed": true
   },
   "outputs": [],
   "source": [
    "%matplotlib inline"
   ]
  },
  {
   "cell_type": "code",
   "execution_count": 9,
   "metadata": {
    "collapsed": true
   },
   "outputs": [],
   "source": [
    "from tools.twitter_authentication import API_KEY, API_SECRET, ACCESS_TOKEN, ACCESS_TOKEN_SECRET"
   ]
  },
  {
   "cell_type": "code",
   "execution_count": 10,
   "metadata": {
    "collapsed": true
   },
   "outputs": [],
   "source": [
    "class TwitterBoxSearchResult:\n",
    "    def __init__(self, TweepySearchResult):\n",
    "        self.box = TweepySearchResult\n",
    "        \n",
    "    def savebox(self):\n",
    "        #returns 1 on success, 0 on failure\n",
    "        ret = db.save(self.box)\n",
    "        return ret\n",
    "    \n",
    "    def to_csv(self, path):\n",
    "        pass\n",
    "\n",
    "\n",
    "    \n",
    "class TwitterBoxQuery:\n",
    "    def __init__(self):\n",
    "        self.pointer = 1\n",
    "        \n",
    "    def get_next(self, line=1):\n",
    "        res = db.get_tweets(self.pointer, self.pointer+line)\n",
    "        self.pointer = self.pointer+line\n",
    "        return res\n",
    "        \n",
    "    def reset_pointer(self, position=1):\n",
    "        self.pointer = position\n",
    "        \n",
    "class TwitterBoxSearch:\n",
    "    def __init__(self):\n",
    "        self.auth = tp.OAuthHandler(API_KEY, API_SECRET)\n",
    "        self.auth.set_access_token(ACCESS_TOKEN, ACCESS_TOKEN_SECRET)\n",
    "        self.api = tp.API(self.auth)\n",
    "    \n",
    "    def search(self, query, max_count = 10):\n",
    "        results = TwitterBoxSearchResult(self.api.search(query, count=max_count))\n",
    "        return results\n",
    "    \n",
    "    def trending(self):\n",
    "        pass\n",
    "    "
   ]
  },
  {
   "cell_type": "code",
   "execution_count": 11,
   "metadata": {
    "collapsed": true
   },
   "outputs": [],
   "source": [
    "test = TwitterBoxSearch()"
   ]
  },
  {
   "cell_type": "code",
   "execution_count": 12,
   "metadata": {
    "collapsed": true
   },
   "outputs": [],
   "source": [
    "res = test.search('iitindore', 15)"
   ]
  },
  {
   "cell_type": "code",
   "execution_count": 13,
   "metadata": {},
   "outputs": [
    {
     "data": {
      "text/plain": [
       "1"
      ]
     },
     "execution_count": 13,
     "metadata": {},
     "output_type": "execute_result"
    }
   ],
   "source": [
    "res.savebox()"
   ]
  },
  {
   "cell_type": "code",
   "execution_count": 14,
   "metadata": {},
   "outputs": [
    {
     "name": "stdout",
     "output_type": "stream",
     "text": [
      "<class 'tweepy.models.Status'>\n",
      "<class 'tweepy.models.Status'>\n",
      "<class 'tweepy.models.Status'>\n",
      "<class 'tweepy.models.Status'>\n",
      "<class 'tweepy.models.Status'>\n",
      "<class 'tweepy.models.Status'>\n",
      "<class 'tweepy.models.Status'>\n",
      "<class 'tweepy.models.Status'>\n",
      "<class 'tweepy.models.Status'>\n",
      "<class 'tweepy.models.Status'>\n",
      "<class 'tweepy.models.Status'>\n",
      "<class 'tweepy.models.Status'>\n",
      "<class 'tweepy.models.Status'>\n",
      "<class 'tweepy.models.Status'>\n",
      "<class 'tweepy.models.Status'>\n"
     ]
    }
   ],
   "source": [
    "for i in res.box:\n",
    "    print(type(i))"
   ]
  },
  {
   "cell_type": "code",
   "execution_count": 15,
   "metadata": {},
   "outputs": [
    {
     "name": "stdout",
     "output_type": "stream",
     "text": [
      "[[1, 'RT @kumar728728: #saveiitindore #iitindore @CNNnews18\\n\\nhttps://t.co/VZO9q2wU6j', '2018-02-12 16:20:05']]\n"
     ]
    }
   ],
   "source": [
    "tt = TwitterBoxQuery()\n",
    "rr = tt.get_next()\n",
    "print(rr)"
   ]
  },
  {
   "cell_type": "code",
   "execution_count": 16,
   "metadata": {},
   "outputs": [
    {
     "name": "stdout",
     "output_type": "stream",
     "text": [
      "[[1, 'RT @kumar728728: #saveiitindore #iitindore @CNNnews18\\n\\nhttps://t.co/VZO9q2wU6j', '2018-02-12 16:20:05'], [1, 'RT @kumar728728: #saveiitindore #iitindore @CNNnews18\\n\\nhttps://t.co/VZO9q2wU6j', '2018-02-12 16:20:05']]\n"
     ]
    }
   ],
   "source": [
    "rr = tt.get_next()\n",
    "print(rr)"
   ]
  },
  {
   "cell_type": "code",
   "execution_count": null,
   "metadata": {
    "collapsed": true
   },
   "outputs": [],
   "source": []
  }
 ],
 "metadata": {
  "kernelspec": {
   "display_name": "Python 3",
   "language": "python",
   "name": "python3"
  },
  "language_info": {
   "codemirror_mode": {
    "name": "ipython",
    "version": 3
   },
   "file_extension": ".py",
   "mimetype": "text/x-python",
   "name": "python",
   "nbconvert_exporter": "python",
   "pygments_lexer": "ipython3",
   "version": "3.6.3"
  }
 },
 "nbformat": 4,
 "nbformat_minor": 2
}
